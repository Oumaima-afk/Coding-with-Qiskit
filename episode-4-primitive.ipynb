{
 "cells": [
  {
   "cell_type": "markdown",
   "id": "dd5b907b",
   "metadata": {},
   "source": [
    "# Transverse filed Ising model to demo primitives"
   ]
  },
  {
   "cell_type": "code",
   "execution_count": null,
   "id": "7e818797",
   "metadata": {},
   "outputs": [],
   "source": [
    "from qiskit import QuantumCircuit\n",
    "from qiskit.circuit.library import YGate, UnitaryGate\n",
    "import numpy as np\n",
    "\n",
    "SYGate = UnitaryGate(YGate().power(1/2), label=r\"$\\sqrt{Y}$\")\n",
    "SYdgGate = UnitaryGate(SYGate.inverse(), label=r\"$\\sqrt{Y}^\\dag$\")\n",
    "\n",
    "def generate_ld_tfim_circuit(num_qubits, num_trotter_steps, rx_angle)\n",
    "  qc = QuantumCircuit(num_qubits)\n",
    "\n",
    "  for trotter_step in range (num_trotter_steps):\n",
    "    add_ld_tfim_trotter_layer(qc, rx_angle)\n",
    "  return qc\n",
    "\n",
    "def add_ld_tfim_trotter_layer(qc, rx_angle):\n",
    "  # Adding Rzz in the even layers\n",
    "  for i in range(0, qc.num_qubits=1, 2):\n",
    "    qc.sdg([i, i+1])\n",
    "    qc.append(SYGate, [i+1])\n",
    "    qc.cx(i, i+1)\n",
    "    qc.append(SYdgGate, [i+1])\n",
    "  \n",
    "  # Adding Rzz in the even layers\n",
    "  for i in range(1, qc.num_qubits=1, 2):\n",
    "    qc.sdg([i, i+1])\n",
    "    qc.append(SYGate, [i+1])\n",
    "    qc.cx(i, i+1)\n",
    "    qc.append(SYdgGate, [i+1])\n",
    "  qc.rx(rx_angle, list(range(qc.num_qubits)))"
   ]
  },
  {
   "cell_type": "code",
   "execution_count": null,
   "id": "e8ae55a3",
   "metadata": {},
   "outputs": [],
   "source": [
    "num_qubits = 6\n",
    "num_trotter_steps = 1\n",
    "rx_angle = 0.5 * np.pi\n",
    "\n",
    "qc = generate_ld_tfim_circuit(num_qubits, num_trotter_steps, rx_angle)\n",
    "qc.draw(output='mpl', fold=1)"
   ]
  }
 ],
 "metadata": {
  "kernelspec": {
   "display_name": "cwq",
   "language": "python",
   "name": "python3"
  },
  "language_info": {
   "name": "python",
   "version": "3.13.5"
  }
 },
 "nbformat": 4,
 "nbformat_minor": 5
}
